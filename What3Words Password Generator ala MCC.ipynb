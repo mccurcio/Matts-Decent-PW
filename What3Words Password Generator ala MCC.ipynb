{
 "cells": [
  {
   "cell_type": "markdown",
   "id": "41886254",
   "metadata": {},
   "source": [
    "# What3Words Password Generator\n",
    "\n",
    "What3words (https://what3words.com) is site that either:\n",
    "\n",
    "1. genereates a three word name for any point on the globe (I don't know how, yet)\n",
    "2. genereates the latitiude, and longitude given a three word address\n",
    "\n",
    "What3words has a Free tier API where you can sign up.\n",
    "\n",
    "Using the API, I made a simple function to return decent passwords with  \n",
    "a number and special character woven into the 3 word location by default."
   ]
  },
  {
   "cell_type": "markdown",
   "id": "b0997288",
   "metadata": {},
   "source": [
    "## import modules"
   ]
  },
  {
   "cell_type": "code",
   "execution_count": 1,
   "id": "b5f54a35",
   "metadata": {},
   "outputs": [],
   "source": [
    "import random\n",
    "import requests\n",
    "\n",
    "# You may need to install `what3words` mod first.\n",
    "# pip install what3words\n",
    "import what3words"
   ]
  },
  {
   "cell_type": "markdown",
   "id": "e894ec47",
   "metadata": {},
   "source": [
    "## create password function"
   ]
  },
  {
   "cell_type": "code",
   "execution_count": 3,
   "id": "36542864",
   "metadata": {},
   "outputs": [],
   "source": [
    "def make_decent_password(numbers=True, symbol=True):\n",
    "\n",
    "    api_key = '###' # Insert your key here\n",
    "\n",
    "    geocoder = what3words.Geocoder(\"api_key\")\n",
    "\n",
    "    # latitude and longitude values are [-90 <= x <= 90]\n",
    "    latitude = float(random.uniform(-90.0000,90.0000))\n",
    "    longitude = float(random.uniform(-90.0000,90.0000))\n",
    "\n",
    "    # Construct API request and collect words\n",
    "    url = 'https://api.what3words.com/v3/convert-to-3wa?coordinates=%f,%f&language=en&key=%s' % (latitude, longitude, api_key)\n",
    "    r = requests.get(url)\n",
    "    r_content = r.json()\n",
    "    words = r_content['words']\n",
    "\n",
    "    # Generate number & character, if needed\n",
    "    digits = ''\n",
    "    character = ''\n",
    "    if numbers == True:\n",
    "        digits = str(random.randint(0,100))\n",
    "    if symbol == True:\n",
    "        character = random.choice(['+', '-', '*', '%', '@', '=', '?', '!'])\n",
    "    a,b,c = words.split('.')\n",
    "    \n",
    "    password = a.capitalize() + digits + b.capitalize() + character + c.capitalize()\n",
    "    return password"
   ]
  },
  {
   "cell_type": "code",
   "execution_count": 4,
   "id": "3643c210",
   "metadata": {},
   "outputs": [
    {
     "name": "stdout",
     "output_type": "stream",
     "text": [
      "Bandwidth32Retort%Agate\n"
     ]
    }
   ],
   "source": [
    "password = make_decent_password()\n",
    "\n",
    "print(password)"
   ]
  },
  {
   "cell_type": "code",
   "execution_count": 5,
   "id": "93aca342",
   "metadata": {},
   "outputs": [
    {
     "name": "stdout",
     "output_type": "stream",
     "text": [
      "PeckedKick-Director\n"
     ]
    }
   ],
   "source": [
    "password = make_decent_password(numbers=False, symbol=True)\n",
    "\n",
    "print(password)"
   ]
  },
  {
   "cell_type": "code",
   "execution_count": 6,
   "id": "21f30aaa",
   "metadata": {},
   "outputs": [
    {
     "name": "stdout",
     "output_type": "stream",
     "text": [
      "ScrapbookLamentationsSleepover\n"
     ]
    }
   ],
   "source": [
    "password = make_decent_password(numbers=False, symbol=False)\n",
    "\n",
    "print(password)"
   ]
  },
  {
   "cell_type": "markdown",
   "id": "d1b6cced",
   "metadata": {},
   "source": [
    "## Password entropy can be easily calculated:\n",
    "\n",
    "**E = log2(R^L)**\n",
    "\n",
    "- E represents the password entropy.\n",
    "\n",
    "- R represents the number of possible characters within the password.\n",
    "\n",
    "- L represents the total number of characters in your password.\n",
    "\n",
    "Enhance entropy in two steps:\n",
    "\n",
    "1. Add more character types. Include uppercase and lowercase letters, special characters, and numbers.\n",
    "\n",
    "2. Increase the length. Longer passwords have higher scores than shorter versions."
   ]
  },
  {
   "cell_type": "code",
   "execution_count": 56,
   "id": "dd575f83",
   "metadata": {},
   "outputs": [],
   "source": [
    "def calc_entropy(caps = True, lower_case=True, numbers=True, symbol=True, total_length=10):\n",
    "    \n",
    "    import math\n",
    "    possible_characters=0\n",
    "    if caps==True:\n",
    "        possible_characters=possible_characters+26\n",
    "    if lower_case==True:\n",
    "        possible_characters=possible_characters+26\n",
    "    if symbol==True:\n",
    "        possible_characters=possible_characters+8\n",
    "    if numbers==True:\n",
    "        possible_characters=possible_characters+10\n",
    " \n",
    "    print('Total Possible Characters = ' + str(possible_characters))\n",
    "    print('Entropy                   = ' + str(math.log2(possible_characters**total_length)))"
   ]
  },
  {
   "cell_type": "markdown",
   "id": "bbbdbb3d",
   "metadata": {},
   "source": [
    "## Entropy \n",
    "\n",
    "Some recommend that you should have:\n",
    "1. Lower case letters\n",
    "2. Caps\n",
    "3. At least 8 symbols\n",
    "4. Numbers\n",
    "5. Password length >= 10\n",
    "\n",
    "### This gives an entropy of greater than 60."
   ]
  },
  {
   "cell_type": "code",
   "execution_count": 57,
   "id": "0265bfa6",
   "metadata": {},
   "outputs": [
    {
     "name": "stdout",
     "output_type": "stream",
     "text": [
      "Total Possible Characters = 70\n",
      "Entropy                   = 61.292830169449665\n"
     ]
    }
   ],
   "source": [
    "calc_entropy(caps = True, lower_case=True, numbers=True, symbol=True, total_length=10)"
   ]
  },
  {
   "cell_type": "markdown",
   "id": "5133ba1e",
   "metadata": {},
   "source": [
    "### Using: caps + lower case letters + numbers with a length of 10."
   ]
  },
  {
   "cell_type": "code",
   "execution_count": 66,
   "id": "ac9526ce",
   "metadata": {},
   "outputs": [
    {
     "name": "stdout",
     "output_type": "stream",
     "text": [
      "Total Possible Characters = 62\n",
      "Entropy                   = 59.54196310386875\n"
     ]
    }
   ],
   "source": [
    "calc_entropy(caps = True, lower_case=True, numbers=True, symbol=False, total_length=10)"
   ]
  },
  {
   "cell_type": "markdown",
   "id": "91ba9d76",
   "metadata": {},
   "source": [
    "### Using: lower case letters, symbols with a length of 10."
   ]
  },
  {
   "cell_type": "code",
   "execution_count": 59,
   "id": "278c1b9c",
   "metadata": {},
   "outputs": [
    {
     "name": "stdout",
     "output_type": "stream",
     "text": [
      "Total Possible Characters = 34\n",
      "Entropy                   = 50.87462841250339\n"
     ]
    }
   ],
   "source": [
    "calc_entropy(caps = True, lower_case=True, numbers=False, symbol=False, total_length=10)"
   ]
  },
  {
   "cell_type": "markdown",
   "id": "a90971a9",
   "metadata": {},
   "source": [
    "### Using: ONLY lower case letters with a length of 10."
   ]
  },
  {
   "cell_type": "code",
   "execution_count": 60,
   "id": "fe449e99",
   "metadata": {},
   "outputs": [
    {
     "name": "stdout",
     "output_type": "stream",
     "text": [
      "Total Possible Characters = 26\n",
      "Entropy                   = 47.00439718141092\n"
     ]
    }
   ],
   "source": [
    "calc_entropy(caps = False, lower_case=True, numbers=False, symbol=False, total_length=10)"
   ]
  },
  {
   "cell_type": "code",
   "execution_count": null,
   "id": "f1af17eb",
   "metadata": {},
   "outputs": [],
   "source": []
  },
  {
   "cell_type": "code",
   "execution_count": 1,
   "id": "50a681b7",
   "metadata": {},
   "outputs": [
    {
     "data": {
      "image/png": "[encoded data removed]",
      "text/plain": [
       "<Figure size 432x288 with 1 Axes>"
      ]
     },
     "metadata": {
      "needs_background": "light"
     },
     "output_type": "display_data"
    }
   ],
   "source": [
    "## I wouold like to plot some of these entropy values.\n",
    "## Maybe I will draw a boundary on the entropy = 60 value and show which parameters give this level.\n",
    "\n",
    "# import matplotlib\n",
    "import matplotlib.pyplot as plt\n",
    "\n",
    "#datasets\n",
    "test = [1,2,3,4,5,6,7,8,9,10]\n",
    "test2 = [95,98,83,75,67,58,67,78,53,32]\n",
    "#scatter plot for the dataset\n",
    "plt.scatter(test, test2)\n",
    "plt.show()"
   ]
  }
 ],
 "metadata": {
  "kernelspec": {
   "display_name": "Python 3 (ipykernel)",
   "language": "python",
   "name": "python3"
  },
  "language_info": {
   "codemirror_mode": {
    "name": "ipython",
    "version": 3
   },
   "file_extension": ".py",
   "mimetype": "text/x-python",
   "name": "python",
   "nbconvert_exporter": "python",
   "pygments_lexer": "ipython3",
   "version": "3.9.7"
  },
  "varInspector": {
   "cols": {
    "lenName": 16,
    "lenType": 16,
    "lenVar": 40
   },
   "kernels_config": {
    "python": {
     "delete_cmd_postfix": "",
     "delete_cmd_prefix": "del ",
     "library": "var_list.py",
     "varRefreshCmd": "print(var_dic_list())"
    },
    "r": {
     "delete_cmd_postfix": ") ",
     "delete_cmd_prefix": "rm(",
     "library": "var_list.r",
     "varRefreshCmd": "cat(var_dic_list()) "
    }
   },
   "types_to_exclude": [
    "module",
    "function",
    "builtin_function_or_method",
    "instance",
    "_Feature"
   ],
   "window_display": false
  }
 },
 "nbformat": 4,
 "nbformat_minor": 5
}
