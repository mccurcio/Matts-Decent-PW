{
 "cells": [
  {
   "cell_type": "markdown",
   "id": "41886254",
   "metadata": {},
   "source": [
    "# What3Words Password Generator\n",
    "\n",
    "What3words (https://what3words.com) is site that either:\n",
    "\n",
    "1. genereates a three word name for any point on the globe (I don't know how, yet)\n",
    "2. genereates the latitiude, and longitude given a three word address\n",
    "\n",
    "What3words has a Free tier API where you can sign up.\n",
    "\n",
    "Using the API, I made a simple function to return decent passwords with  \n",
    "a number and special character woven into the 3 word location by default."
   ]
  },
  {
   "cell_type": "markdown",
   "id": "b0997288",
   "metadata": {},
   "source": [
    "## import modules"
   ]
  },
  {
   "cell_type": "code",
   "execution_count": 1,
   "id": "b5f54a35",
   "metadata": {},
   "outputs": [],
   "source": [
    "import random\n",
    "import requests\n",
    "\n",
    "# You may need to install `what3words` mod first.\n",
    "# pip install what3words\n",
    "import what3words"
   ]
  },
  {
   "cell_type": "markdown",
   "id": "e894ec47",
   "metadata": {},
   "source": [
    "## create password function"
   ]
  },
  {
   "cell_type": "code",
   "execution_count": 3,
   "id": "36542864",
   "metadata": {},
   "outputs": [],
   "source": [
    "def make_decent_password(numbers=True, symbol=True):\n",
    "\n",
    "    api_key = '###' # Insert your key here\n",
    "\n",
    "    geocoder = what3words.Geocoder(\"api_key\")\n",
    "\n",
    "    # latitude and longitude values are [-90 <= x <= 90]\n",
    "    latitude = float(random.uniform(-90.0000,90.0000))\n",
    "    longitude = float(random.uniform(-90.0000,90.0000))\n",
    "\n",
    "    # Construct API request and collect words\n",
    "    url = 'https://api.what3words.com/v3/convert-to-3wa?coordinates=%f,%f&language=en&key=%s' % (latitude, longitude, api_key)\n",
    "    r = requests.get(url)\n",
    "    r_content = r.json()\n",
    "    words = r_content['words']\n",
    "\n",
    "    # Generate number & character, if needed\n",
    "    digits = ''\n",
    "    character = ''\n",
    "    if numbers == True:\n",
    "        digits = str(random.randint(0,100))\n",
    "    if symbol == True:\n",
    "        character = random.choice(['+', '-', '*', '%', '@', '=', '?', '!'])\n",
    "    a,b,c = words.split('.')\n",
    "    \n",
    "    password = a.capitalize() + digits + b.capitalize() + character + c.capitalize()\n",
    "    return password"
   ]
  },
  {
   "cell_type": "code",
   "execution_count": 4,
   "id": "3643c210",
   "metadata": {},
   "outputs": [
    {
     "name": "stdout",
     "output_type": "stream",
     "text": [
      "Bandwidth32Retort%Agate\n"
     ]
    }
   ],
   "source": [
    "password = make_decent_password()\n",
    "\n",
    "print(password)"
   ]
  },
  {
   "cell_type": "code",
   "execution_count": 5,
   "id": "93aca342",
   "metadata": {},
   "outputs": [
    {
     "name": "stdout",
     "output_type": "stream",
     "text": [
      "PeckedKick-Director\n"
     ]
    }
   ],
   "source": [
    "password = make_decent_password(numbers=False, symbol=True)\n",
    "\n",
    "print(password)"
   ]
  },
  {
   "cell_type": "code",
   "execution_count": 6,
   "id": "21f30aaa",
   "metadata": {},
   "outputs": [
    {
     "name": "stdout",
     "output_type": "stream",
     "text": [
      "ScrapbookLamentationsSleepover\n"
     ]
    }
   ],
   "source": [
    "password = make_decent_password(numbers=False, symbol=False)\n",
    "\n",
    "print(password)"
   ]
  }
 ],
 "metadata": {
  "kernelspec": {
   "display_name": "Python 3 (ipykernel)",
   "language": "python",
   "name": "python3"
  },
  "language_info": {
   "codemirror_mode": {
    "name": "ipython",
    "version": 3
   },
   "file_extension": ".py",
   "mimetype": "text/x-python",
   "name": "python",
   "nbconvert_exporter": "python",
   "pygments_lexer": "ipython3",
   "version": "3.9.7"
  },
  "varInspector": {
   "cols": {
    "lenName": 16,
    "lenType": 16,
    "lenVar": 40
   },
   "kernels_config": {
    "python": {
     "delete_cmd_postfix": "",
     "delete_cmd_prefix": "del ",
     "library": "var_list.py",
     "varRefreshCmd": "print(var_dic_list())"
    },
    "r": {
     "delete_cmd_postfix": ") ",
     "delete_cmd_prefix": "rm(",
     "library": "var_list.r",
     "varRefreshCmd": "cat(var_dic_list()) "
    }
   },
   "types_to_exclude": [
    "module",
    "function",
    "builtin_function_or_method",
    "instance",
    "_Feature"
   ],
   "window_display": false
  }
 },
 "nbformat": 4,
 "nbformat_minor": 5
}
